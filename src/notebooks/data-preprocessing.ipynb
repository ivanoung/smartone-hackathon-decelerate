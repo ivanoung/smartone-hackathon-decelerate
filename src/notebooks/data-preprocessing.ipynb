{
 "cells": [
  {
   "cell_type": "code",
   "execution_count": 1,
   "metadata": {},
   "outputs": [],
   "source": [
    "import pandas as pd"
   ]
  },
  {
   "cell_type": "code",
   "execution_count": 3,
   "metadata": {},
   "outputs": [
    {
     "data": {
      "text/html": [
       "<div>\n",
       "<style scoped>\n",
       "    .dataframe tbody tr th:only-of-type {\n",
       "        vertical-align: middle;\n",
       "    }\n",
       "\n",
       "    .dataframe tbody tr th {\n",
       "        vertical-align: top;\n",
       "    }\n",
       "\n",
       "    .dataframe thead th {\n",
       "        text-align: right;\n",
       "    }\n",
       "</style>\n",
       "<table border=\"1\" class=\"dataframe\">\n",
       "  <thead>\n",
       "    <tr style=\"text-align: right;\">\n",
       "      <th></th>\n",
       "      <th>Name</th>\n",
       "      <th>Address</th>\n",
       "      <th>Lat</th>\n",
       "      <th>Long</th>\n",
       "    </tr>\n",
       "  </thead>\n",
       "  <tbody>\n",
       "    <tr>\n",
       "      <th>0</th>\n",
       "      <td>Aberdeen Jockey Club General Out-patient Clinic</td>\n",
       "      <td>10 Aberdeen Reservoir Road, Aberdeen</td>\n",
       "      <td>57.145481</td>\n",
       "      <td>-2.102720</td>\n",
       "    </tr>\n",
       "    <tr>\n",
       "      <th>1</th>\n",
       "      <td>Anne Black General Out-patient Clinic</td>\n",
       "      <td>1/F, 140 Tsat Tse Mui Road, North Point</td>\n",
       "      <td>22.287111</td>\n",
       "      <td>114.191673</td>\n",
       "    </tr>\n",
       "    <tr>\n",
       "      <th>2</th>\n",
       "      <td>Ap Lei Chau General Out-patient Clinic</td>\n",
       "      <td>161 Ap Lei Chau Main Street, Ap Lei Chau</td>\n",
       "      <td>22.243390</td>\n",
       "      <td>114.153690</td>\n",
       "    </tr>\n",
       "    <tr>\n",
       "      <th>3</th>\n",
       "      <td>Caritas Medical Centre Family Medicine Clinic ...</td>\n",
       "      <td>G/F, Wai Ming Block, Caritas Medical Centre, 1...</td>\n",
       "      <td>22.329250</td>\n",
       "      <td>114.165611</td>\n",
       "    </tr>\n",
       "    <tr>\n",
       "      <th>4</th>\n",
       "      <td>Central District Health Centre General Out-pat...</td>\n",
       "      <td>1 Kau U Fong, Central</td>\n",
       "      <td>19.100000</td>\n",
       "      <td>-155.600006</td>\n",
       "    </tr>\n",
       "  </tbody>\n",
       "</table>\n",
       "</div>"
      ],
      "text/plain": [
       "                                                Name  \\\n",
       "0    Aberdeen Jockey Club General Out-patient Clinic   \n",
       "1              Anne Black General Out-patient Clinic   \n",
       "2             Ap Lei Chau General Out-patient Clinic   \n",
       "3  Caritas Medical Centre Family Medicine Clinic ...   \n",
       "4  Central District Health Centre General Out-pat...   \n",
       "\n",
       "                                             Address        Lat        Long  \n",
       "0               10 Aberdeen Reservoir Road, Aberdeen  57.145481   -2.102720  \n",
       "1            1/F, 140 Tsat Tse Mui Road, North Point  22.287111  114.191673  \n",
       "2           161 Ap Lei Chau Main Street, Ap Lei Chau  22.243390  114.153690  \n",
       "3  G/F, Wai Ming Block, Caritas Medical Centre, 1...  22.329250  114.165611  \n",
       "4                              1 Kau U Fong, Central  19.100000 -155.600006  "
      ]
     },
     "execution_count": 3,
     "metadata": {},
     "output_type": "execute_result"
    }
   ],
   "source": [
    "pd.read_csv(\"../datasets/General_Outpatient_Clinics.csv\").head()"
   ]
  },
  {
   "cell_type": "code",
   "execution_count": 4,
   "metadata": {},
   "outputs": [
    {
     "data": {
      "text/html": [
       "<div>\n",
       "<style scoped>\n",
       "    .dataframe tbody tr th:only-of-type {\n",
       "        vertical-align: middle;\n",
       "    }\n",
       "\n",
       "    .dataframe tbody tr th {\n",
       "        vertical-align: top;\n",
       "    }\n",
       "\n",
       "    .dataframe thead th {\n",
       "        text-align: right;\n",
       "    }\n",
       "</style>\n",
       "<table border=\"1\" class=\"dataframe\">\n",
       "  <thead>\n",
       "    <tr style=\"text-align: right;\">\n",
       "      <th></th>\n",
       "      <th>Unnamed: 0</th>\n",
       "      <th>Name of Clinic</th>\n",
       "      <th>Address</th>\n",
       "      <th>Lat</th>\n",
       "      <th>Long</th>\n",
       "    </tr>\n",
       "  </thead>\n",
       "  <tbody>\n",
       "    <tr>\n",
       "      <th>0</th>\n",
       "      <td>1</td>\n",
       "      <td>Assemblies of God Medical Clinic</td>\n",
       "      <td>No. 11-12, G/F, Suet Fung House, Fung Tak Esta...</td>\n",
       "      <td>22.344340</td>\n",
       "      <td>114.201650</td>\n",
       "    </tr>\n",
       "    <tr>\n",
       "      <th>1</th>\n",
       "      <td>2</td>\n",
       "      <td>Black Point Power Station Health Centre</td>\n",
       "      <td>Black Point Power Station, Lung Kwu Tan Road, ...</td>\n",
       "      <td>22.394700</td>\n",
       "      <td>113.919250</td>\n",
       "    </tr>\n",
       "    <tr>\n",
       "      <th>2</th>\n",
       "      <td>3</td>\n",
       "      <td>BOCHK Health Care Division</td>\n",
       "      <td>Room 1460, Bank of China Tower, 1 Garden Road,...</td>\n",
       "      <td>22.278470</td>\n",
       "      <td>114.159980</td>\n",
       "    </tr>\n",
       "    <tr>\n",
       "      <th>3</th>\n",
       "      <td>4</td>\n",
       "      <td>BOCHK Health Care Division (BOC Centre)</td>\n",
       "      <td>30/F, Bank of China Centre, Olympian City, 11 ...</td>\n",
       "      <td>36.563114</td>\n",
       "      <td>103.735809</td>\n",
       "    </tr>\n",
       "    <tr>\n",
       "      <th>4</th>\n",
       "      <td>5</td>\n",
       "      <td>Caritas Clinic – Caine Road</td>\n",
       "      <td>Medical Clinic - Room 032, G/F, Caritas House,...</td>\n",
       "      <td>22.333080</td>\n",
       "      <td>114.191223</td>\n",
       "    </tr>\n",
       "  </tbody>\n",
       "</table>\n",
       "</div>"
      ],
      "text/plain": [
       "  Unnamed: 0                           Name of Clinic  \\\n",
       "0          1         Assemblies of God Medical Clinic   \n",
       "1          2  Black Point Power Station Health Centre   \n",
       "2          3               BOCHK Health Care Division   \n",
       "3          4  BOCHK Health Care Division (BOC Centre)   \n",
       "4          5              Caritas Clinic – Caine Road   \n",
       "\n",
       "                                             Address        Lat        Long  \n",
       "0  No. 11-12, G/F, Suet Fung House, Fung Tak Esta...  22.344340  114.201650  \n",
       "1  Black Point Power Station, Lung Kwu Tan Road, ...  22.394700  113.919250  \n",
       "2  Room 1460, Bank of China Tower, 1 Garden Road,...  22.278470  114.159980  \n",
       "3  30/F, Bank of China Centre, Olympian City, 11 ...  36.563114  103.735809  \n",
       "4  Medical Clinic - Room 032, G/F, Caritas House,...  22.333080  114.191223  "
      ]
     },
     "execution_count": 4,
     "metadata": {},
     "output_type": "execute_result"
    }
   ],
   "source": [
    "pd.read_csv(\"../datasets/Private_Clinics.csv\").head()"
   ]
  },
  {
   "cell_type": "code",
   "execution_count": 5,
   "metadata": {},
   "outputs": [
    {
     "ename": "SyntaxError",
     "evalue": "invalid syntax (__init__.py, line 1187)",
     "output_type": "error",
     "traceback": [
      "Traceback \u001b[0;36m(most recent call last)\u001b[0m:\n",
      "  File \u001b[1;32m\"/home/dom/anaconda3/lib/python3.6/site-packages/IPython/core/interactiveshell.py\"\u001b[0m, line \u001b[1;32m2963\u001b[0m, in \u001b[1;35mrun_code\u001b[0m\n    exec(code_obj, self.user_global_ns, self.user_ns)\n",
      "  File \u001b[1;32m\"<ipython-input-5-64b71325471e>\"\u001b[0m, line \u001b[1;32m1\u001b[0m, in \u001b[1;35m<module>\u001b[0m\n    pd.read_excel(\"../datasets/Hong Kong Food Licences - Final.xlsx\")\n",
      "  File \u001b[1;32m\"/home/dom/anaconda3/lib/python3.6/site-packages/pandas/util/_decorators.py\"\u001b[0m, line \u001b[1;32m178\u001b[0m, in \u001b[1;35mwrapper\u001b[0m\n    return func(*args, **kwargs)\n",
      "  File \u001b[1;32m\"/home/dom/anaconda3/lib/python3.6/site-packages/pandas/util/_decorators.py\"\u001b[0m, line \u001b[1;32m178\u001b[0m, in \u001b[1;35mwrapper\u001b[0m\n    return func(*args, **kwargs)\n",
      "  File \u001b[1;32m\"/home/dom/anaconda3/lib/python3.6/site-packages/pandas/io/excel.py\"\u001b[0m, line \u001b[1;32m307\u001b[0m, in \u001b[1;35mread_excel\u001b[0m\n    io = ExcelFile(io, engine=engine)\n",
      "\u001b[0;36m  File \u001b[0;32m\"/home/dom/anaconda3/lib/python3.6/site-packages/pandas/io/excel.py\"\u001b[0;36m, line \u001b[0;32m352\u001b[0;36m, in \u001b[0;35m__init__\u001b[0;36m\u001b[0m\n\u001b[0;31m    import xlrd\u001b[0m\n",
      "\u001b[0;36m  File \u001b[0;32m\"/home/dom/anaconda3/lib/python3.6/site-packages/xlrd/__init__.py\"\u001b[0;36m, line \u001b[0;32m1187\u001b[0m\n\u001b[0;31m    print \"EXTERNSHEET(b7-):\"\u001b[0m\n\u001b[0m                            ^\u001b[0m\n\u001b[0;31mSyntaxError\u001b[0m\u001b[0;31m:\u001b[0m invalid syntax\n"
     ]
    }
   ],
   "source": [
    "pd.read_excel(\"../datasets/Hong Kong Food Licences - Final.xlsx\")"
   ]
  }
 ],
 "metadata": {
  "kernelspec": {
   "display_name": "Python 3",
   "language": "python",
   "name": "python3"
  },
  "language_info": {
   "codemirror_mode": {
    "name": "ipython",
    "version": 3
   },
   "file_extension": ".py",
   "mimetype": "text/x-python",
   "name": "python",
   "nbconvert_exporter": "python",
   "pygments_lexer": "ipython3",
   "version": "3.6.5"
  }
 },
 "nbformat": 4,
 "nbformat_minor": 2
}
